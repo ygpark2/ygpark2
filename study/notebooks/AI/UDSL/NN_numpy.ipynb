{
 "cells": [
  {
   "cell_type": "markdown",
   "metadata": {},
   "source": [
    "Activation 함수 중 시그모이드 함수"
   ]
  },
  {
   "cell_type": "code",
   "execution_count": 11,
   "metadata": {
    "collapsed": true
   },
   "outputs": [],
   "source": [
    "def sigmoid(x):\n",
    "    return 1 / (1 + np.exp(-x))\n",
    "\n",
    "def sigmoid_derivative(x):\n",
    "    return x * (1 - x)\n"
   ]
  },
  {
   "cell_type": "code",
   "execution_count": 26,
   "metadata": {
    "scrolled": true
   },
   "outputs": [
    {
     "name": "stdout",
     "output_type": "stream",
     "text": [
      "0.5749485705148473\n",
      "[array([[ 0.31637619,  0.99006539,  0.9554376 ],\n",
      "       [ 0.78082272,  0.97683912,  0.7931988 ],\n",
      "       [ 0.47395772,  0.08257653,  0.87764375]]), array([[ 0.82112515,  0.41225687,  0.94178766],\n",
      "       [ 0.98642645,  0.60953771,  0.13153211],\n",
      "       [ 0.2974485 ,  0.98957531,  0.6252349 ],\n",
      "       [ 0.30275913,  0.49237772,  0.05859657],\n",
      "       [ 0.16086414,  0.78041324,  0.04475936]]), array([[ 0.52599268,  0.15256782,  0.73394358],\n",
      "       [ 0.98864265,  0.28407043,  0.30118226],\n",
      "       [ 0.73863403,  0.45057995,  0.22154054],\n",
      "       [ 0.89814545,  0.95008538,  0.82128135]]), array([[ 0.20373785,  0.50081025,  0.51294346],\n",
      "       [ 0.2593736 ,  0.7638434 ,  0.17008834],\n",
      "       [ 0.68372869,  0.64319765,  0.52941152],\n",
      "       [ 0.55682676,  0.62148461,  0.83649128],\n",
      "       [ 0.10875482,  0.58488943,  0.98660174],\n",
      "       [ 0.69732438,  0.01353448,  0.63700806],\n",
      "       [ 0.50196042,  0.24488538,  0.44355613]]), array([[ 0.2100422 ,  0.80644759,  0.49201118],\n",
      "       [ 0.80268308,  0.82440962,  0.48495137],\n",
      "       [ 0.86084959,  0.7250369 ,  0.29900003]])]\n",
      "[[ 3.87838792  6.63861453  3.00889938]]\n",
      "[[ 3.87838792]\n",
      " [ 6.63861453]\n",
      " [ 3.00889938]]\n",
      "(3, 1)\n",
      "[[ 0.52142431]\n",
      " [ 0.43851657]\n",
      " [ 0.17761416]]\n",
      "[[ 3.87838792  0.52142431]\n",
      " [ 6.63861453  0.43851657]\n",
      " [ 3.00889938  0.17761416]]\n",
      "[[ 5.75126468  7.13763414  3.76384163  2.80131024  2.52601132]]\n",
      "[[ 5.75126468]\n",
      " [ 7.13763414]\n",
      " [ 3.76384163]\n",
      " [ 2.80131024]\n",
      " [ 2.52601132]]\n",
      "(5, 1)\n",
      "[[ 0.97204494]\n",
      " [ 0.57005707]\n",
      " [ 0.97612192]\n",
      " [ 0.70870838]\n",
      " [ 0.45182025]]\n",
      "[[ 5.75126468  0.97204494]\n",
      " [ 7.13763414  0.57005707]\n",
      " [ 3.76384163  0.97612192]\n",
      " [ 2.80131024  0.70870838]\n",
      " [ 2.52601132  0.45182025]]\n",
      "[[ 3.46109175  6.49999674  5.33296409  7.28904344]]\n",
      "[[ 3.46109175]\n",
      " [ 6.49999674]\n",
      " [ 5.33296409]\n",
      " [ 7.28904344]]\n",
      "(4, 1)\n",
      "[[ 0.09199782]\n",
      " [ 0.05909593]\n",
      " [ 0.22976077]\n",
      " [ 0.75802164]]\n",
      "[[ 3.46109175  0.09199782]\n",
      " [ 6.49999674  0.05909593]\n",
      " [ 5.33296409  0.22976077]\n",
      " [ 7.28904344  0.75802164]]\n",
      "[[ 2.22404759  3.08392838  5.38876748  4.58392976  1.82230778  4.21101522\n",
      "   3.50153329]]\n",
      "[[ 2.22404759]\n",
      " [ 3.08392838]\n",
      " [ 5.38876748]\n",
      " [ 4.58392976]\n",
      " [ 1.82230778]\n",
      " [ 4.21101522]\n",
      " [ 3.50153329]]\n",
      "(7, 1)\n",
      "[[ 0.41009061]\n",
      " [ 0.26458109]\n",
      " [ 0.84880455]\n",
      " [ 0.48205411]\n",
      " [ 0.00193916]\n",
      " [ 0.27039167]\n",
      " [ 0.21770248]]\n",
      "[[  2.22404759e+00   4.10090606e-01]\n",
      " [  3.08392838e+00   2.64581095e-01]\n",
      " [  5.38876748e+00   8.48804547e-01]\n",
      " [  4.58392976e+00   4.82054115e-01]\n",
      " [  1.82230778e+00   1.93916223e-03]\n",
      " [  4.21101522e+00   2.70391670e-01]\n",
      " [  3.50153329e+00   2.17702481e-01]]\n",
      "[[ 2.87314838  6.46491773  6.61517132]]\n",
      "[[ 2.87314838]\n",
      " [ 6.46491773]\n",
      " [ 6.61517132]]\n",
      "(3, 1)\n",
      "[[ 0.59620461]\n",
      " [ 0.07492149]\n",
      " [ 0.098219  ]]\n",
      "[[ 2.87314838  0.59620461]\n",
      " [ 6.46491773  0.07492149]\n",
      " [ 6.61517132  0.098219  ]]\n"
     ]
    }
   ],
   "source": [
    "import numpy as np\n",
    "\n",
    "arr = np.arange(9).reshape(3,3)\n",
    "rarr = np.random.shuffle(arr)\n",
    "# print(arr)\n",
    "\n",
    "input_node_num = 3\n",
    "\n",
    "# input_vector for training\n",
    "test_data = np.random.randint(5, size=(10,input_node_num))\n",
    "\n",
    "# test_data = np.array([[1,2,3],[2,3,4],[3,4,5],[4,5,6]])\n",
    "\n",
    "row_num = 5\n",
    "col_num = 3\n",
    "\n",
    "weighted_hidden_layer_list = [3, 5, 4, 7, 3]\n",
    "hidden_layer_num = len(weighted_hidden_layer_list)\n",
    "\n",
    "\n",
    "# print(np.random.random((1,1)))\n",
    "\n",
    "print(np.random.randn())\n",
    "\n",
    "weighted_matrix = [np.random.random((node_num, input_node_num)) for node_num in weighted_hidden_layer_list]\n",
    "print(weighted_matrix)\n",
    "\n",
    "def feed_forward(test_matrix, weighted_matrix):\n",
    "    for matx in weighted_matrix:\n",
    "        multiplied_matrix = np.matmul(matx, test_matrix)\n",
    "        print(np.array([multiplied_matrix]))\n",
    "        transposed_multi_mat = np.array([multiplied_matrix]).transpose()\n",
    "        print(transposed_multi_mat)\n",
    "        print(transposed_multi_mat.shape)\n",
    "        bias_vector = np.random.random((1, transposed_multi_mat.shape[0]))\n",
    "        print(bias_vector.transpose())\n",
    "\n",
    "        result_matrix = np.append(transposed_multi_mat, bias_vector.transpose(), axis=1)\n",
    "        print(result_matrix)\n",
    "\n",
    "feed_forward([6,2,0], weighted_matrix)\n",
    "\n",
    "# print(w_matrix)\n",
    "\n",
    "# print(b)"
   ]
  },
  {
   "cell_type": "code",
   "execution_count": 6,
   "metadata": {},
   "outputs": [
    {
     "name": "stdout",
     "output_type": "stream",
     "text": [
      "[6 2 0]\n",
      "[7 5 7]\n",
      "[8 8 6]\n",
      "[3 2 4]\n",
      "[8 8 6]\n",
      "[1 8 2]\n",
      "[3 3 0]\n",
      "[7 0 6]\n",
      "[2 4 6]\n",
      "[6 1 1]\n"
     ]
    }
   ],
   "source": [
    "import numpy as np\n",
    "\n",
    "input_node_num = 3\n",
    "\n",
    "# input_vector for training\n",
    "test_data = np.random.randint(9, size=(10,input_node_num))\n",
    "\n",
    "# test_data = np.array([[1,2,3],[2,3,4],[3,4,5],[4,5,6]])\n",
    "\n",
    "# train function\n",
    "def train(test_data):\n",
    "    for td in test_data:\n",
    "        print(td)\n",
    "        transpoed_td = td.reshape((-1, 1))\n",
    "        \n",
    "train(test_data)"
   ]
  },
  {
   "cell_type": "code",
   "execution_count": 82,
   "metadata": {},
   "outputs": [
    {
     "name": "stdout",
     "output_type": "stream",
     "text": [
      "[[[ 1.]]\n",
      "\n",
      " [[ 1.]]\n",
      "\n",
      " [[ 1.]]]\n"
     ]
    },
    {
     "ename": "AxisError",
     "evalue": "axis 3 is out of bounds for array of dimension 3",
     "output_type": "error",
     "traceback": [
      "\u001b[0;31m---------------------------------------------------------------------------\u001b[0m",
      "\u001b[0;31mAxisError\u001b[0m                                 Traceback (most recent call last)",
      "\u001b[0;32m<ipython-input-82-0e970452f3c5>\u001b[0m in \u001b[0;36m<module>\u001b[0;34m()\u001b[0m\n\u001b[1;32m      5\u001b[0m \u001b[0mx\u001b[0m \u001b[0;34m=\u001b[0m \u001b[0mnp\u001b[0m\u001b[0;34m.\u001b[0m\u001b[0mones\u001b[0m\u001b[0;34m(\u001b[0m\u001b[0;34m(\u001b[0m\u001b[0;36m1\u001b[0m\u001b[0;34m,\u001b[0m \u001b[0;36m1\u001b[0m\u001b[0;34m,\u001b[0m \u001b[0;36m3\u001b[0m\u001b[0;34m)\u001b[0m\u001b[0;34m)\u001b[0m\u001b[0;34m\u001b[0m\u001b[0m\n\u001b[1;32m      6\u001b[0m \u001b[0mprint\u001b[0m\u001b[0;34m(\u001b[0m\u001b[0mx\u001b[0m\u001b[0;34m.\u001b[0m\u001b[0mtranspose\u001b[0m\u001b[0;34m(\u001b[0m\u001b[0;34m)\u001b[0m\u001b[0;34m)\u001b[0m\u001b[0;34m\u001b[0m\u001b[0m\n\u001b[0;32m----> 7\u001b[0;31m \u001b[0mprint\u001b[0m\u001b[0;34m(\u001b[0m \u001b[0mnp\u001b[0m\u001b[0;34m.\u001b[0m\u001b[0mtranspose\u001b[0m\u001b[0;34m(\u001b[0m\u001b[0mx\u001b[0m\u001b[0;34m,\u001b[0m \u001b[0;34m(\u001b[0m\u001b[0;36m1\u001b[0m\u001b[0;34m,\u001b[0m\u001b[0;36m3\u001b[0m\u001b[0;34m,\u001b[0m\u001b[0;36m0\u001b[0m\u001b[0;34m)\u001b[0m\u001b[0;34m)\u001b[0m \u001b[0;34m)\u001b[0m\u001b[0;34m\u001b[0m\u001b[0m\n\u001b[0m\u001b[1;32m      8\u001b[0m \u001b[0;34m\u001b[0m\u001b[0m\n\u001b[1;32m      9\u001b[0m \u001b[0ma\u001b[0m \u001b[0;34m=\u001b[0m \u001b[0mnp\u001b[0m\u001b[0;34m.\u001b[0m\u001b[0marange\u001b[0m\u001b[0;34m(\u001b[0m\u001b[0;36m6\u001b[0m\u001b[0;34m)\u001b[0m\u001b[0;34m.\u001b[0m\u001b[0mreshape\u001b[0m\u001b[0;34m(\u001b[0m\u001b[0;36m2\u001b[0m\u001b[0;34m,\u001b[0m\u001b[0;36m3\u001b[0m\u001b[0;34m)\u001b[0m\u001b[0;34m\u001b[0m\u001b[0m\n",
      "\u001b[0;32m~/.pyenv/versions/3.6.2/envs/notebooks-3.6.2/lib/python3.6/site-packages/numpy/core/fromnumeric.py\u001b[0m in \u001b[0;36mtranspose\u001b[0;34m(a, axes)\u001b[0m\n\u001b[1;32m    548\u001b[0m \u001b[0;34m\u001b[0m\u001b[0m\n\u001b[1;32m    549\u001b[0m     \"\"\"\n\u001b[0;32m--> 550\u001b[0;31m     \u001b[0;32mreturn\u001b[0m \u001b[0m_wrapfunc\u001b[0m\u001b[0;34m(\u001b[0m\u001b[0ma\u001b[0m\u001b[0;34m,\u001b[0m \u001b[0;34m'transpose'\u001b[0m\u001b[0;34m,\u001b[0m \u001b[0maxes\u001b[0m\u001b[0;34m)\u001b[0m\u001b[0;34m\u001b[0m\u001b[0m\n\u001b[0m\u001b[1;32m    551\u001b[0m \u001b[0;34m\u001b[0m\u001b[0m\n\u001b[1;32m    552\u001b[0m \u001b[0;34m\u001b[0m\u001b[0m\n",
      "\u001b[0;32m~/.pyenv/versions/3.6.2/envs/notebooks-3.6.2/lib/python3.6/site-packages/numpy/core/fromnumeric.py\u001b[0m in \u001b[0;36m_wrapfunc\u001b[0;34m(obj, method, *args, **kwds)\u001b[0m\n\u001b[1;32m     55\u001b[0m \u001b[0;32mdef\u001b[0m \u001b[0m_wrapfunc\u001b[0m\u001b[0;34m(\u001b[0m\u001b[0mobj\u001b[0m\u001b[0;34m,\u001b[0m \u001b[0mmethod\u001b[0m\u001b[0;34m,\u001b[0m \u001b[0;34m*\u001b[0m\u001b[0margs\u001b[0m\u001b[0;34m,\u001b[0m \u001b[0;34m**\u001b[0m\u001b[0mkwds\u001b[0m\u001b[0;34m)\u001b[0m\u001b[0;34m:\u001b[0m\u001b[0;34m\u001b[0m\u001b[0m\n\u001b[1;32m     56\u001b[0m     \u001b[0;32mtry\u001b[0m\u001b[0;34m:\u001b[0m\u001b[0;34m\u001b[0m\u001b[0m\n\u001b[0;32m---> 57\u001b[0;31m         \u001b[0;32mreturn\u001b[0m \u001b[0mgetattr\u001b[0m\u001b[0;34m(\u001b[0m\u001b[0mobj\u001b[0m\u001b[0;34m,\u001b[0m \u001b[0mmethod\u001b[0m\u001b[0;34m)\u001b[0m\u001b[0;34m(\u001b[0m\u001b[0;34m*\u001b[0m\u001b[0margs\u001b[0m\u001b[0;34m,\u001b[0m \u001b[0;34m**\u001b[0m\u001b[0mkwds\u001b[0m\u001b[0;34m)\u001b[0m\u001b[0;34m\u001b[0m\u001b[0m\n\u001b[0m\u001b[1;32m     58\u001b[0m \u001b[0;34m\u001b[0m\u001b[0m\n\u001b[1;32m     59\u001b[0m     \u001b[0;31m# An AttributeError occurs if the object does not have\u001b[0m\u001b[0;34m\u001b[0m\u001b[0;34m\u001b[0m\u001b[0m\n",
      "\u001b[0;31mAxisError\u001b[0m: axis 3 is out of bounds for array of dimension 3"
     ]
    }
   ],
   "source": [
    "import numpy as np\n",
    "\n",
    "# np.random.random(3, np.random.randint(3,6))\n",
    "\n",
    "x = np.ones((1, 1, 3))\n",
    "print(x.transpose())\n",
    "print( np.transpose(x, (1,3,0)) )\n",
    "\n",
    "a = np.arange(6).reshape(2,3)\n",
    "print(a)\n",
    "print(len([1,2,3]))"
   ]
  }
 ],
 "metadata": {
  "kernelspec": {
   "display_name": "Python 3",
   "language": "python",
   "name": "python3"
  },
  "language_info": {
   "codemirror_mode": {
    "name": "ipython",
    "version": 3
   },
   "file_extension": ".py",
   "mimetype": "text/x-python",
   "name": "python",
   "nbconvert_exporter": "python",
   "pygments_lexer": "ipython3",
   "version": "3.6.2"
  }
 },
 "nbformat": 4,
 "nbformat_minor": 2
}
