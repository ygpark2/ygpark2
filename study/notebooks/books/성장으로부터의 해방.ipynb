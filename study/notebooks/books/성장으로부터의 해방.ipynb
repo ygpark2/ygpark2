{
 "cells": [
  {
   "cell_type": "code",
   "execution_count": null,
   "metadata": {
    "collapsed": true
   },
   "outputs": [],
   "source": []
  },
  {
   "cell_type": "markdown",
   "metadata": {},
   "source": [
    "## 발전이라는 환상"
   ]
  },
  {
   "cell_type": "markdown",
   "metadata": {},
   "source": [
    "53 페이지\n",
    "에너지 노예 군단 덕에 육체적 능력으로부터 멀어졌고, 두번째로는 글로벌한 생산 분할과 연결 고리의 도움으로 지역 자원이라는 한계성을 잃었으며, 세 번째로는 금융 신용관계로 인해 현재의 가능성에 대한 개념을 상실했다.\n"
   ]
  },
  {
   "cell_type": "markdown",
   "metadata": {},
   "source": [
    "54 페이지\n",
    "개인당 연간 이산화탄소 방출량 2.7톤의 수준을 유지하려면 장거리를 뛰는것은 허용이되지 않는다. 무제한으로 지구 위를 돌아다니는 것 역시 다른 나라의 자원과 공간을 이용하여 생산한 물건을 소비하는 것과 마찬가지로 용납되지 않는다.\n",
    "\n",
    "프리드리히 슈마허와 레오폴드 코어는 중간기술 이란 개념을, 이반 일리치는 자율적 공생을 위한 기술 이라는 개념을 개발했다.\n",
    "도구나 기계를 이용하여 노동 생산성은 높이되 노동력을 완전히 대체하지 말자는 뜻이다."
   ]
  },
  {
   "cell_type": "markdown",
   "metadata": {},
   "source": [
    "## 3장 자유라는 환상\n",
    "\n"
   ]
  }
 ],
 "metadata": {
  "kernelspec": {
   "display_name": "Python 3",
   "language": "python",
   "name": "python3"
  },
  "language_info": {
   "codemirror_mode": {
    "name": "ipython",
    "version": 3
   },
   "file_extension": ".py",
   "mimetype": "text/x-python",
   "name": "python",
   "nbconvert_exporter": "python",
   "pygments_lexer": "ipython3",
   "version": "3.6.2"
  }
 },
 "nbformat": 4,
 "nbformat_minor": 2
}
